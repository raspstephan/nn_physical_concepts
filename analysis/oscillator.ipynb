{
 "cells": [
  {
   "cell_type": "code",
   "execution_count": 1,
   "metadata": {},
   "outputs": [
    {
     "ename": "ModuleNotFoundError",
     "evalue": "No module named 'scinet3'",
     "output_type": "error",
     "traceback": [
      "\u001b[0;31m---------------------------------------------------------------------------\u001b[0m",
      "\u001b[0;31mModuleNotFoundError\u001b[0m                       Traceback (most recent call last)",
      "\u001b[0;32m<ipython-input-1-9886d7fcfed2>\u001b[0m in \u001b[0;36m<module>\u001b[0;34m\u001b[0m\n\u001b[1;32m      3\u001b[0m \u001b[0;32mfrom\u001b[0m \u001b[0mmpl_toolkits\u001b[0m\u001b[0;34m.\u001b[0m\u001b[0mmplot3d\u001b[0m \u001b[0;32mimport\u001b[0m \u001b[0mAxes3D\u001b[0m\u001b[0;34m\u001b[0m\u001b[0;34m\u001b[0m\u001b[0m\n\u001b[1;32m      4\u001b[0m \u001b[0;32mfrom\u001b[0m \u001b[0mmatplotlib\u001b[0m \u001b[0;32mimport\u001b[0m \u001b[0mcm\u001b[0m\u001b[0;34m\u001b[0m\u001b[0;34m\u001b[0m\u001b[0m\n\u001b[0;32m----> 5\u001b[0;31m \u001b[0;32mfrom\u001b[0m \u001b[0mscinet3\u001b[0m \u001b[0;32mimport\u001b[0m \u001b[0;34m*\u001b[0m\u001b[0;34m\u001b[0m\u001b[0;34m\u001b[0m\u001b[0m\n\u001b[0m\u001b[1;32m      6\u001b[0m \u001b[0;32mimport\u001b[0m \u001b[0mscinet3\u001b[0m\u001b[0;34m.\u001b[0m\u001b[0med_oscillator\u001b[0m \u001b[0;32mas\u001b[0m \u001b[0medo\u001b[0m\u001b[0;34m\u001b[0m\u001b[0;34m\u001b[0m\u001b[0m\n",
      "\u001b[0;31mModuleNotFoundError\u001b[0m: No module named 'scinet3'"
     ]
    }
   ],
   "source": [
    "import numpy as np\n",
    "import matplotlib.pyplot as plt\n",
    "from mpl_toolkits.mplot3d import Axes3D\n",
    "from matplotlib import cm\n",
    "from scinet3 import *\n",
    "import scinet3.ed_oscillator as edo"
   ]
  },
  {
   "cell_type": "markdown",
   "metadata": {},
   "source": [
    "### Helper functions for plots"
   ]
  },
  {
   "cell_type": "code",
   "execution_count": null,
   "metadata": {},
   "outputs": [],
   "source": [
    "def osc_eqn(A_0, delta_0, b, kappa, t):\n",
    "    return np.real(A_0 * np.exp(-b / 2. * t) * np.exp(1 / 2. * np.sqrt(b**2 - 4 * kappa + 0.j) * t + 1.j * delta_0))\n",
    "\n",
    "def gen_input(A_0, delta_0, b, kappa, tt_predicted):\n",
    "    tt_in = np.linspace(0, 5, 50)\n",
    "    in1 = np.array([osc_eqn(A_0, delta_0, b, kappa, tt_in) for _ in tt_predicted])\n",
    "    in2 = np.reshape(tt_predicted, (-1, 1))\n",
    "    out = in2 #dummy filler\n",
    "    return [in1, in2, out]"
   ]
  },
  {
   "cell_type": "code",
   "execution_count": null,
   "metadata": {},
   "outputs": [],
   "source": [
    "blue_color='#000cff'\n",
    "orange_color='#ff7700'"
   ]
  },
  {
   "cell_type": "code",
   "execution_count": null,
   "metadata": {},
   "outputs": [],
   "source": [
    "def pendulum_prediction(net, b, kappa):    \n",
    "    tt_given = np.linspace(0, 10, 250)\n",
    "    tt_predicted = np.linspace(0, 10, 250)\n",
    "    a_given = osc_eqn(1, 0, b, kappa, tt_given)\n",
    "    a_precicted = net.run(gen_input(1, 0, b, kappa, tt_predicted), net.output).ravel()\n",
    "    fig = plt.figure(figsize=(3.4, 2.1))\n",
    "    ax = fig.add_subplot(111)\n",
    "    ax.plot(tt_given, a_given, color=orange_color, label='True time evolution')\n",
    "    ax.plot(tt_predicted, a_precicted, '--', color=blue_color, label='Predicted time evolution')\n",
    "    ax.set_xlabel(r'$t$ [$s$]')\n",
    "    ax.set_ylabel(r'$x$ [$m$]')\n",
    "    handles, labels = ax.get_legend_handles_labels()\n",
    "    lgd=ax.legend(handles, labels,loc='upper center', bbox_to_anchor=(0.6, 1.3), shadow=True, ncol=1)\n",
    "    fig.tight_layout()\n",
    "    return fig"
   ]
  },
  {
   "cell_type": "code",
   "execution_count": null,
   "metadata": {},
   "outputs": [],
   "source": [
    "def osc_representation_plot(net, b_range, kappa_range, step_num=100, eval_time=7.5):\n",
    "    bb = np.linspace(*b_range, num=step_num)\n",
    "    kk = np.linspace(*kappa_range, num=step_num)\n",
    "    B, K = np.meshgrid(bb, kk)\n",
    "    out = np.array([net.run(gen_input(1, 0, b, kappa, [eval_time]), net.mu)[0] for b, kappa in zip(np.ravel(B), np.ravel(K))])\n",
    "    fig = plt.figure(figsize=(net.latent_size*3.9, 2.1))\n",
    "    for i in range(net.latent_size):\n",
    "        zs = out[:, i]\n",
    "        ax = fig.add_subplot('1{}{}'.format(net.latent_size, i + 1), projection='3d')\n",
    "        Z = np.reshape(zs, B.shape)\n",
    "        surf = ax.plot_surface(B, K, Z, rstride=1, cstride=1, cmap=cm.inferno, linewidth=0)\n",
    "        ax.set_xlabel(r'$b$ [$kg/s$]')\n",
    "        ax.set_ylabel(r'$\\kappa$ [$kg/s^2$]')\n",
    "        ax.set_zlabel('Latent activation {}'.format(i + 1))\n",
    "        if (i==2):\n",
    "            ax.set_zlim(-1,1) #Fix the scale for the third plot, where the activation is close to zero\n",
    "        ax.set_zticks([-1,-0.5,0,0.5,1])\n",
    "    fig.tight_layout()\n",
    "    return fig"
   ]
  },
  {
   "cell_type": "markdown",
   "metadata": {},
   "source": [
    "## Load pre-trained model\n",
    "\n",
    "### Parameters\n",
    "- `latent_size: 2` \n",
    "- `input_size: 50`\n",
    "- `input2_size: 1`\n",
    "- `output_size: 1`\n",
    "- `encoder_num_units: [500, 100]`\n",
    "- other parameters: default values\n",
    "### Data\n",
    "- Only kappa and b are varied (in the default intervals), A_0 and delta_0 are fixed\n",
    "- `t_sample: np.linspace(0, 5, 50)` (fed into the network)\n",
    "- `t_meas_interval: (0, 10)` (time interval in which prediction times lie)\n",
    "- training data: 95000 samples\n",
    "- validation data: 5000 samples\n",
    "\n",
    "### Training\n",
    "- `epoch_num: 1000`, `batch_size: 512`, `learning_rate: 1e-3`, `beta: 1e-3`"
   ]
  },
  {
   "cell_type": "code",
   "execution_count": null,
   "metadata": {},
   "outputs": [],
   "source": [
    "net_2_latent = nn.Network.from_saved('oscillator')"
   ]
  },
  {
   "cell_type": "code",
   "execution_count": null,
   "metadata": {},
   "outputs": [],
   "source": [
    "pendulum_prediction(net_2_latent, 0.5, 5.);"
   ]
  },
  {
   "cell_type": "code",
   "execution_count": null,
   "metadata": {},
   "outputs": [],
   "source": [
    "%matplotlib tk\n",
    "osc_representation_plot(net_2_latent, [0.5, 1], [5, 10]);"
   ]
  },
  {
   "cell_type": "markdown",
   "metadata": {},
   "source": [
    "## Load pre-trained model\n",
    "\n",
    "### Parameters\n",
    "- `latent_size: 3` \n",
    "- Rest as for `net_2_latent`"
   ]
  },
  {
   "cell_type": "code",
   "execution_count": null,
   "metadata": {},
   "outputs": [],
   "source": [
    "net_3_latent = nn.Network.from_saved('oscillator_3_latent')"
   ]
  },
  {
   "cell_type": "code",
   "execution_count": null,
   "metadata": {},
   "outputs": [],
   "source": [
    "pendulum_prediction(net_3_latent, 0.5, 5.);"
   ]
  },
  {
   "cell_type": "code",
   "execution_count": null,
   "metadata": {},
   "outputs": [],
   "source": [
    "%matplotlib tk\n",
    "osc_representation_plot(net_3_latent, [0.5, 1], [5, 10]);"
   ]
  },
  {
   "cell_type": "markdown",
   "metadata": {},
   "source": [
    "## Calculate L2 norm of error"
   ]
  },
  {
   "cell_type": "code",
   "execution_count": null,
   "metadata": {},
   "outputs": [],
   "source": [
    "data, states, params = edo.oscillator_data(50000, t_meas_interval=(0, 10))"
   ]
  },
  {
   "cell_type": "code",
   "execution_count": null,
   "metadata": {},
   "outputs": [],
   "source": [
    "np.sqrt(net_3_latent.run(data, net_3_latent.recon_loss))"
   ]
  },
  {
   "cell_type": "code",
   "execution_count": null,
   "metadata": {},
   "outputs": [],
   "source": []
  }
 ],
 "metadata": {
  "anaconda-cloud": {},
  "kernelspec": {
   "display_name": "Python 3",
   "language": "python",
   "name": "python3"
  },
  "language_info": {
   "codemirror_mode": {
    "name": "ipython",
    "version": 3
   },
   "file_extension": ".py",
   "mimetype": "text/x-python",
   "name": "python",
   "nbconvert_exporter": "python",
   "pygments_lexer": "ipython3",
   "version": "3.7.3"
  }
 },
 "nbformat": 4,
 "nbformat_minor": 2
}
